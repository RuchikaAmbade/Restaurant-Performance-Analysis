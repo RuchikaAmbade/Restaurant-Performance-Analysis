{
 "cells": [
  {
   "cell_type": "markdown",
   "id": "e2ce8c91-ab89-40e2-8ddc-1c671e63ccdf",
   "metadata": {},
   "source": [
    "#### Import necessary libraries for data manipulation, visualization, and analysis"
   ]
  },
  {
   "cell_type": "code",
   "execution_count": 48,
   "id": "cc9298e7-14cc-40d1-a455-160c0ee29599",
   "metadata": {},
   "outputs": [],
   "source": [
    "import pandas as pd\n",
    "import numpy as np\n",
    "import seaborn as sns\n",
    "import matplotlib.pyplot as plt\n",
    "import warnings\n",
    "warnings.filterwarnings('ignore')"
   ]
  },
  {
   "cell_type": "code",
   "execution_count": 49,
   "id": "b1f8e19c-fd83-4fc2-be4d-9c768d709cb7",
   "metadata": {},
   "outputs": [],
   "source": [
    "# load the data"
   ]
  },
  {
   "cell_type": "code",
   "execution_count": 50,
   "id": "82801b4b-cb41-4cd5-9437-4e60958a57ce",
   "metadata": {},
   "outputs": [],
   "source": [
    "data=pd.read_csv('RestaurantDataset.csv')"
   ]
  },
  {
   "cell_type": "code",
   "execution_count": 51,
   "id": "fefc7515-67b5-4382-9be8-706094fa4d34",
   "metadata": {},
   "outputs": [
    {
     "data": {
      "text/html": [
       "<div>\n",
       "<style scoped>\n",
       "    .dataframe tbody tr th:only-of-type {\n",
       "        vertical-align: middle;\n",
       "    }\n",
       "\n",
       "    .dataframe tbody tr th {\n",
       "        vertical-align: top;\n",
       "    }\n",
       "\n",
       "    .dataframe thead th {\n",
       "        text-align: right;\n",
       "    }\n",
       "</style>\n",
       "<table border=\"1\" class=\"dataframe\">\n",
       "  <thead>\n",
       "    <tr style=\"text-align: right;\">\n",
       "      <th></th>\n",
       "      <th>Restaurant ID</th>\n",
       "      <th>Restaurant Name</th>\n",
       "      <th>Country Code</th>\n",
       "      <th>City</th>\n",
       "      <th>Address</th>\n",
       "      <th>Locality</th>\n",
       "      <th>Locality Verbose</th>\n",
       "      <th>Longitude</th>\n",
       "      <th>Latitude</th>\n",
       "      <th>Cuisines</th>\n",
       "      <th>...</th>\n",
       "      <th>Currency</th>\n",
       "      <th>Has Table booking</th>\n",
       "      <th>Has Online delivery</th>\n",
       "      <th>Is delivering now</th>\n",
       "      <th>Switch to order menu</th>\n",
       "      <th>Price range</th>\n",
       "      <th>Aggregate rating</th>\n",
       "      <th>Rating color</th>\n",
       "      <th>Rating text</th>\n",
       "      <th>Votes</th>\n",
       "    </tr>\n",
       "  </thead>\n",
       "  <tbody>\n",
       "    <tr>\n",
       "      <th>0</th>\n",
       "      <td>6317637</td>\n",
       "      <td>Le Petit Souffle</td>\n",
       "      <td>162</td>\n",
       "      <td>Makati City</td>\n",
       "      <td>Third Floor, Century City Mall, Kalayaan Avenu...</td>\n",
       "      <td>Century City Mall, Poblacion, Makati City</td>\n",
       "      <td>Century City Mall, Poblacion, Makati City, Mak...</td>\n",
       "      <td>121.027535</td>\n",
       "      <td>14.565443</td>\n",
       "      <td>French, Japanese, Desserts</td>\n",
       "      <td>...</td>\n",
       "      <td>Botswana Pula(P)</td>\n",
       "      <td>Yes</td>\n",
       "      <td>No</td>\n",
       "      <td>No</td>\n",
       "      <td>No</td>\n",
       "      <td>3</td>\n",
       "      <td>4.8</td>\n",
       "      <td>Dark Green</td>\n",
       "      <td>Excellent</td>\n",
       "      <td>314</td>\n",
       "    </tr>\n",
       "    <tr>\n",
       "      <th>1</th>\n",
       "      <td>6304287</td>\n",
       "      <td>Izakaya Kikufuji</td>\n",
       "      <td>162</td>\n",
       "      <td>Makati City</td>\n",
       "      <td>Little Tokyo, 2277 Chino Roces Avenue, Legaspi...</td>\n",
       "      <td>Little Tokyo, Legaspi Village, Makati City</td>\n",
       "      <td>Little Tokyo, Legaspi Village, Makati City, Ma...</td>\n",
       "      <td>121.014101</td>\n",
       "      <td>14.553708</td>\n",
       "      <td>Japanese</td>\n",
       "      <td>...</td>\n",
       "      <td>Botswana Pula(P)</td>\n",
       "      <td>Yes</td>\n",
       "      <td>No</td>\n",
       "      <td>No</td>\n",
       "      <td>No</td>\n",
       "      <td>3</td>\n",
       "      <td>4.5</td>\n",
       "      <td>Dark Green</td>\n",
       "      <td>Excellent</td>\n",
       "      <td>591</td>\n",
       "    </tr>\n",
       "    <tr>\n",
       "      <th>2</th>\n",
       "      <td>6300002</td>\n",
       "      <td>Heat - Edsa Shangri-La</td>\n",
       "      <td>162</td>\n",
       "      <td>Mandaluyong City</td>\n",
       "      <td>Edsa Shangri-La, 1 Garden Way, Ortigas, Mandal...</td>\n",
       "      <td>Edsa Shangri-La, Ortigas, Mandaluyong City</td>\n",
       "      <td>Edsa Shangri-La, Ortigas, Mandaluyong City, Ma...</td>\n",
       "      <td>121.056831</td>\n",
       "      <td>14.581404</td>\n",
       "      <td>Seafood, Asian, Filipino, Indian</td>\n",
       "      <td>...</td>\n",
       "      <td>Botswana Pula(P)</td>\n",
       "      <td>Yes</td>\n",
       "      <td>No</td>\n",
       "      <td>No</td>\n",
       "      <td>No</td>\n",
       "      <td>4</td>\n",
       "      <td>4.4</td>\n",
       "      <td>Green</td>\n",
       "      <td>Very Good</td>\n",
       "      <td>270</td>\n",
       "    </tr>\n",
       "    <tr>\n",
       "      <th>3</th>\n",
       "      <td>6318506</td>\n",
       "      <td>Ooma</td>\n",
       "      <td>162</td>\n",
       "      <td>Mandaluyong City</td>\n",
       "      <td>Third Floor, Mega Fashion Hall, SM Megamall, O...</td>\n",
       "      <td>SM Megamall, Ortigas, Mandaluyong City</td>\n",
       "      <td>SM Megamall, Ortigas, Mandaluyong City, Mandal...</td>\n",
       "      <td>121.056475</td>\n",
       "      <td>14.585318</td>\n",
       "      <td>Japanese, Sushi</td>\n",
       "      <td>...</td>\n",
       "      <td>Botswana Pula(P)</td>\n",
       "      <td>No</td>\n",
       "      <td>No</td>\n",
       "      <td>No</td>\n",
       "      <td>No</td>\n",
       "      <td>4</td>\n",
       "      <td>4.9</td>\n",
       "      <td>Dark Green</td>\n",
       "      <td>Excellent</td>\n",
       "      <td>365</td>\n",
       "    </tr>\n",
       "    <tr>\n",
       "      <th>4</th>\n",
       "      <td>6314302</td>\n",
       "      <td>Sambo Kojin</td>\n",
       "      <td>162</td>\n",
       "      <td>Mandaluyong City</td>\n",
       "      <td>Third Floor, Mega Atrium, SM Megamall, Ortigas...</td>\n",
       "      <td>SM Megamall, Ortigas, Mandaluyong City</td>\n",
       "      <td>SM Megamall, Ortigas, Mandaluyong City, Mandal...</td>\n",
       "      <td>121.057508</td>\n",
       "      <td>14.584450</td>\n",
       "      <td>Japanese, Korean</td>\n",
       "      <td>...</td>\n",
       "      <td>Botswana Pula(P)</td>\n",
       "      <td>Yes</td>\n",
       "      <td>No</td>\n",
       "      <td>No</td>\n",
       "      <td>No</td>\n",
       "      <td>4</td>\n",
       "      <td>4.8</td>\n",
       "      <td>Dark Green</td>\n",
       "      <td>Excellent</td>\n",
       "      <td>229</td>\n",
       "    </tr>\n",
       "  </tbody>\n",
       "</table>\n",
       "<p>5 rows × 21 columns</p>\n",
       "</div>"
      ],
      "text/plain": [
       "   Restaurant ID         Restaurant Name  Country Code              City  \\\n",
       "0        6317637        Le Petit Souffle           162       Makati City   \n",
       "1        6304287        Izakaya Kikufuji           162       Makati City   \n",
       "2        6300002  Heat - Edsa Shangri-La           162  Mandaluyong City   \n",
       "3        6318506                    Ooma           162  Mandaluyong City   \n",
       "4        6314302             Sambo Kojin           162  Mandaluyong City   \n",
       "\n",
       "                                             Address  \\\n",
       "0  Third Floor, Century City Mall, Kalayaan Avenu...   \n",
       "1  Little Tokyo, 2277 Chino Roces Avenue, Legaspi...   \n",
       "2  Edsa Shangri-La, 1 Garden Way, Ortigas, Mandal...   \n",
       "3  Third Floor, Mega Fashion Hall, SM Megamall, O...   \n",
       "4  Third Floor, Mega Atrium, SM Megamall, Ortigas...   \n",
       "\n",
       "                                     Locality  \\\n",
       "0   Century City Mall, Poblacion, Makati City   \n",
       "1  Little Tokyo, Legaspi Village, Makati City   \n",
       "2  Edsa Shangri-La, Ortigas, Mandaluyong City   \n",
       "3      SM Megamall, Ortigas, Mandaluyong City   \n",
       "4      SM Megamall, Ortigas, Mandaluyong City   \n",
       "\n",
       "                                    Locality Verbose   Longitude   Latitude  \\\n",
       "0  Century City Mall, Poblacion, Makati City, Mak...  121.027535  14.565443   \n",
       "1  Little Tokyo, Legaspi Village, Makati City, Ma...  121.014101  14.553708   \n",
       "2  Edsa Shangri-La, Ortigas, Mandaluyong City, Ma...  121.056831  14.581404   \n",
       "3  SM Megamall, Ortigas, Mandaluyong City, Mandal...  121.056475  14.585318   \n",
       "4  SM Megamall, Ortigas, Mandaluyong City, Mandal...  121.057508  14.584450   \n",
       "\n",
       "                           Cuisines  ...          Currency Has Table booking  \\\n",
       "0        French, Japanese, Desserts  ...  Botswana Pula(P)               Yes   \n",
       "1                          Japanese  ...  Botswana Pula(P)               Yes   \n",
       "2  Seafood, Asian, Filipino, Indian  ...  Botswana Pula(P)               Yes   \n",
       "3                   Japanese, Sushi  ...  Botswana Pula(P)                No   \n",
       "4                  Japanese, Korean  ...  Botswana Pula(P)               Yes   \n",
       "\n",
       "  Has Online delivery Is delivering now Switch to order menu Price range  \\\n",
       "0                  No                No                   No           3   \n",
       "1                  No                No                   No           3   \n",
       "2                  No                No                   No           4   \n",
       "3                  No                No                   No           4   \n",
       "4                  No                No                   No           4   \n",
       "\n",
       "   Aggregate rating  Rating color Rating text Votes  \n",
       "0               4.8    Dark Green   Excellent   314  \n",
       "1               4.5    Dark Green   Excellent   591  \n",
       "2               4.4         Green   Very Good   270  \n",
       "3               4.9    Dark Green   Excellent   365  \n",
       "4               4.8    Dark Green   Excellent   229  \n",
       "\n",
       "[5 rows x 21 columns]"
      ]
     },
     "execution_count": 51,
     "metadata": {},
     "output_type": "execute_result"
    }
   ],
   "source": [
    "data.head()"
   ]
  },
  {
   "cell_type": "code",
   "execution_count": 52,
   "id": "3073f9bb-222a-4778-aeb2-f0cb26dd045c",
   "metadata": {},
   "outputs": [
    {
     "data": {
      "text/plain": [
       "Restaurant ID           0\n",
       "Restaurant Name         0\n",
       "Country Code            0\n",
       "City                    0\n",
       "Address                 0\n",
       "Locality                0\n",
       "Locality Verbose        0\n",
       "Longitude               0\n",
       "Latitude                0\n",
       "Cuisines                9\n",
       "Average Cost for two    0\n",
       "Currency                0\n",
       "Has Table booking       0\n",
       "Has Online delivery     0\n",
       "Is delivering now       0\n",
       "Switch to order menu    0\n",
       "Price range             0\n",
       "Aggregate rating        0\n",
       "Rating color            0\n",
       "Rating text             0\n",
       "Votes                   0\n",
       "dtype: int64"
      ]
     },
     "execution_count": 52,
     "metadata": {},
     "output_type": "execute_result"
    }
   ],
   "source": [
    "# Check for null values in the data\n",
    "data.isnull().sum()"
   ]
  },
  {
   "cell_type": "markdown",
   "id": "f8eb7f9b-bd02-49ab-90a3-e9880a4ab425",
   "metadata": {},
   "source": [
    "There are 9 missing values in Cuisines colum."
   ]
  },
  {
   "cell_type": "code",
   "execution_count": 54,
   "id": "b2071c52-fcea-4a6e-8b30-2f1058e36b61",
   "metadata": {},
   "outputs": [
    {
     "name": "stdout",
     "output_type": "stream",
     "text": [
      "Mode of Cuisines column: North Indian\n"
     ]
    }
   ],
   "source": [
    "# Find the mode of the Cuisines column\n",
    "mode_cuisine = data['Cuisines'].mode()[0]\n",
    "\n",
    "print(\"Mode of Cuisines column:\", mode_cuisine)"
   ]
  },
  {
   "cell_type": "code",
   "execution_count": 55,
   "id": "45f1440e-005f-462f-8f89-363f11187811",
   "metadata": {},
   "outputs": [],
   "source": [
    "# Replace missing values in 'Cuisines' \n",
    "\n",
    "data.loc[data['Cuisines'].isnull(), 'Cuisines'] = 'North Indian'"
   ]
  },
  {
   "cell_type": "code",
   "execution_count": 56,
   "id": "1b5b298a-432f-45a8-b948-12475d635203",
   "metadata": {},
   "outputs": [
    {
     "name": "stdout",
     "output_type": "stream",
     "text": [
      "Missing values in 'Cuisines': 0\n"
     ]
    }
   ],
   "source": [
    "# Verify that there are no missing values in 'Cuisines' now\n",
    "\n",
    "print(f\"Missing values in 'Cuisines': {data['Cuisines'].isnull().sum()}\")"
   ]
  },
  {
   "cell_type": "markdown",
   "id": "7eb1d67b-e256-422f-b3cd-ed06c5be0a89",
   "metadata": {},
   "source": [
    "### Task 1: * Table Booking and Online Delivery *  "
   ]
  },
  {
   "cell_type": "markdown",
   "id": "4f36a980-35bc-4fba-8f6f-1206fa423e42",
   "metadata": {},
   "source": [
    "#### 1. Determine the percentage of restaurants that offer table booking and online delivery"
   ]
  },
  {
   "cell_type": "code",
   "execution_count": 59,
   "id": "b8c5cc00-71b0-411a-b2a8-5ce36a4bbab2",
   "metadata": {},
   "outputs": [
    {
     "name": "stdout",
     "output_type": "stream",
     "text": [
      "Percentage of restaurants offering table booking: 12.12%\n",
      "Percentage of restaurants offering online delivery: 25.66%\n"
     ]
    }
   ],
   "source": [
    "# Convert the 'Has Table booking' and 'Has Online delivery' columns to lowercase for consistent comparison in subsequent analysis\n",
    "data['Has Table booking']=data['Has Table booking'].str.lower()\n",
    "data['Has Online delivery']=data['Has Online delivery'].str.lower()\n",
    "\n",
    "# Calculate the total number of restaurants in the dataset\n",
    "total_restaurants = len(data)\n",
    "\n",
    "# Calculate the percentage of restaurants offering table booking and online delivery\n",
    "\n",
    "table_booking_percent = (((data['Has Table booking'] == 'yes').sum())/total_restaurants) * 100\n",
    "no_table_booking_percent = 100 - table_booking_percent\n",
    "\n",
    "online_delivery_percent = (((data['Has Online delivery'] == 'yes').sum())/total_restaurants) * 100\n",
    "no_online_delivery_percent = 100 - online_delivery_percent \n",
    "\n",
    "# Print the calculated percentage of restaurants offering table booking and online delivery\n",
    "print(f'Percentage of restaurants offering table booking: {round(table_booking_percent, 2)}%') \n",
    "print(f'Percentage of restaurants offering online delivery: {round(online_delivery_percent, 2)}%')\n"
   ]
  },
  {
   "cell_type": "code",
   "execution_count": 60,
   "id": "19212781-03f3-4d57-b93c-a3b1327b2080",
   "metadata": {},
   "outputs": [],
   "source": [
    "# Visualizing the percentage of restaurants offering Table Booking and Online Delivery"
   ]
  },
  {
   "cell_type": "code",
   "execution_count": 61,
   "id": "732838b5-0b52-46ef-a9f1-3e6a746c21b0",
   "metadata": {},
   "outputs": [
    {
     "data": {
      "text/plain": [
       "Text(0.5, 1.0, 'Online Delivery Availability')"
      ]
     },
     "execution_count": 61,
     "metadata": {},
     "output_type": "execute_result"
    },
    {
     "data": {
      "image/png": "[encoded data removed]",
      "text/plain": [
       "<Figure size 1500x500 with 2 Axes>"
      ]
     },
     "metadata": {},
     "output_type": "display_data"
    }
   ],
   "source": [
    "# Create a data for Pie Charts: Percentages of restaurants offering Table Booking and Online Delivery, with labels and sizes .\n",
    "table_booking_lables = ['Table Booking','No Table Booking']\n",
    "table_booking_sizes = [table_booking_percent,no_table_booking_percent]\n",
    "\n",
    "online_delivery_lables = ['Online Delivery' , 'No Online Delivery']\n",
    "online_delivery_sizes = [online_delivery_percent , no_online_delivery_percent]\n",
    "\n",
    "# Create 1 row and 2 columns of subplots with a custom figure size\n",
    "fig, axs = plt.subplots(1,2,figsize=(15,5))\n",
    "\n",
    "# Plotting two pie charts side by side \n",
    "axs[0].pie(table_booking_sizes,\n",
    "       labels=table_booking_lables,\n",
    "       autopct = '%1.1f%%',\n",
    "       colors=['skyblue','lightcoral'],\n",
    "       explode = (0.1,0),\n",
    "       shadow = True\n",
    "          )\n",
    "axs[0].set_title('Table Booking Availability')\n",
    "\n",
    "axs[1].pie(online_delivery_sizes,\n",
    "       labels=online_delivery_lables,\n",
    "       autopct = '%1.1f%%',\n",
    "       colors = ['lightgreen','gold'],\n",
    "       explode = (0.1,0),\n",
    "       shadow = True\n",
    "          )\n",
    "axs[1].set_title('Online Delivery Availability')"
   ]
  },
  {
   "cell_type": "markdown",
   "id": "f612b108-dad7-4b7f-9f5e-17b5a3b988e7",
   "metadata": {},
   "source": [
    "* **12.12%** of restaurants provide table booking, showing that it's not a common feature, potentially due to operational limitations or customer preferences for walk-ins.\n",
    "\n",
    "* **25.66%** offer online delivery, highlighting a stronger trend toward convenience and the increasing reliance on delivery services in the restaurant industry.\n",
    "\n",
    "* This suggests a potential opportunity to increase table booking options and expand or optimize online delivery services for better customer reach."
   ]
  },
  {
   "cell_type": "markdown",
   "id": "46f8ca32-6d2a-4264-9021-121ea8c6c3a9",
   "metadata": {},
   "source": [
    "#### 2. Comapare the average ratings of restaurants with table booking and those without"
   ]
  },
  {
   "cell_type": "code",
   "execution_count": 64,
   "id": "fcb275a1-24c0-4b22-9d13-2dcbbea25f18",
   "metadata": {},
   "outputs": [
    {
     "name": "stdout",
     "output_type": "stream",
     "text": [
      "Average ratings of restaurants with table booking :3.44%\n",
      "Average ratings of restaurants without table booking :2.56%\n"
     ]
    }
   ],
   "source": [
    "# Filter the dataset into two groups:\n",
    "with_table_booking = data[data['Has Table booking']=='yes']\n",
    "without_table_booking = data[data['Has Table booking']=='no']\n",
    "\n",
    "# Calculate the average ratings for restaurants:\n",
    "avg_rating_with_booking = with_table_booking['Aggregate rating'].mean()\n",
    "avg_rating_without_booking = without_table_booking['Aggregate rating'].mean()\n",
    "\n",
    "# Display the average ratings for restaurants with and without table booking\n",
    "print(f'Average ratings of restaurants with table booking :{round(avg_rating_with_booking,2)}%')\n",
    "print(f'Average ratings of restaurants without table booking :{round(avg_rating_without_booking,2)}%')\n"
   ]
  },
  {
   "cell_type": "code",
   "execution_count": 65,
   "id": "83934ed8-63ef-4be3-88d8-8e0b9ba7da56",
   "metadata": {},
   "outputs": [],
   "source": [
    "# Visualizing the average ratings of restaurants with table booking and those without¶"
   ]
  },
  {
   "cell_type": "code",
   "execution_count": 66,
   "id": "a160d7e5-fa40-46c4-a230-4b307ea52fc2",
   "metadata": {},
   "outputs": [
    {
     "data": {
      "image/png": "[encoded data removed]",
      "text/plain": [
       "<Figure size 640x480 with 1 Axes>"
      ]
     },
     "metadata": {},
     "output_type": "display_data"
    }
   ],
   "source": [
    "# Plotting a bar chart to compare the average ratings of restaurants with and without table booking.\n",
    "labels = ['With Table Booking','Without Table Booking']\n",
    "avg_ratings = [avg_rating_with_booking,avg_rating_without_booking]\n",
    "\n",
    "plt.bar(labels,avg_ratings,color=['pink','purple'])\n",
    "plt.ylabel('Average Rating')\n",
    "plt.title('Average Rating : Table Booking vs No Table Booking')\n",
    "plt.ylim(0,5)\n",
    "plt.show()"
   ]
  },
  {
   "cell_type": "markdown",
   "id": "630b3b56-c7c4-4c72-bcdb-2498c49fd70f",
   "metadata": {},
   "source": [
    "* Restaurants with table booking have an average rating of 3.44, which is significantly higher than the 2.56 average rating of restaurants without table booking.\n",
    "\n",
    "* This suggests that restaurants offering table booking may provide better service, ambiance, or overall customer experience, leading to higher customer satisfaction and better ratings.\n",
    "\n",
    "* The bar chart visually highlights this difference, emphasizing the value of table booking as a service feature for improving customer perception and satisfaction.\n",
    "\n"
   ]
  },
  {
   "cell_type": "markdown",
   "id": "eb45b356-86b4-4e4a-a78d-4abd425a29bb",
   "metadata": {},
   "source": [
    "#### 3. Analyze the availability of online delivery among restaurants with different price ranges"
   ]
  },
  {
   "cell_type": "code",
   "execution_count": 69,
   "id": "5d386634-960c-48fd-ab21-0d9120171576",
   "metadata": {},
   "outputs": [
    {
     "name": "stdout",
     "output_type": "stream",
     "text": [
      "Price range\n",
      "1    15.774077\n",
      "2    41.310633\n",
      "3    29.190341\n",
      "4     9.044369\n",
      "Name: Has Online delivery, dtype: float64\n"
     ]
    },
    {
     "data": {
      "image/png": "[encoded data removed]",
      "text/plain": [
       "<Figure size 640x480 with 1 Axes>"
      ]
     },
     "metadata": {},
     "output_type": "display_data"
    }
   ],
   "source": [
    "# Group by price range and calculate online delivery availability\n",
    "price_range_groups = data.groupby('Price range')['Has Online delivery']\n",
    "online_delivery_stats = price_range_groups.apply(lambda x: (x == 'yes').mean() * 100)\n",
    "\n",
    "# Print results\n",
    "print(online_delivery_stats)\n",
    "\n",
    "# Define a list of colors for each bar (one color per price range)\n",
    "colors = ['#FF6347', '#32CD32', '#1E90FF', '#FFD700']  \n",
    "\n",
    "# Visualization with different colors for each bar\n",
    "online_delivery_stats.plot(kind='bar', color=colors)\n",
    "\n",
    "plt.ylabel('Percentage of Restaurants with Online Delivery (%)')\n",
    "plt.title('Online Delivery Availability by Price Range')\n",
    "plt.xticks(rotation=0)\n",
    "plt.show()"
   ]
  },
  {
   "cell_type": "markdown",
   "id": "99a63e6b-fdf5-400f-9021-aa62c386a0dc",
   "metadata": {},
   "source": [
    "* Restaurants in the **medium price range** are leading the trend of offering online            delivery, likely due to a balance of affordability and customer demand for      convenience.   High-end and luxury restaurants seem to offer online delivery less frequently, which      could be due to the personalized, dine-in experiences they offer."
   ]
  },
  {
   "cell_type": "markdown",
   "id": "0cd87538-123f-4258-9606-0dd85e65789b",
   "metadata": {},
   "source": [
    "### Task 2: * Price Range Analysis * "
   ]
  },
  {
   "cell_type": "markdown",
   "id": "30afc165-d10f-437d-828c-4053a90d7156",
   "metadata": {},
   "source": [
    "#### 2. Determine the most common price range among all the restaurants."
   ]
  },
  {
   "cell_type": "code",
   "execution_count": 73,
   "id": "2f65a2cc-4b9d-4277-996e-485e851b4884",
   "metadata": {},
   "outputs": [
    {
     "name": "stdout",
     "output_type": "stream",
     "text": [
      "The most common price range is : 1\n"
     ]
    }
   ],
   "source": [
    "# Find the most common price range\n",
    "most_common_price_range = data['Price range'].mode()[0]\n",
    "\n",
    "# Print the most common price range\n",
    "print('The most common price range is :',most_common_price_range)"
   ]
  },
  {
   "cell_type": "code",
   "execution_count": 74,
   "id": "9d78948e-1e2b-4f8f-ac27-bd27735c787d",
   "metadata": {},
   "outputs": [],
   "source": [
    "# Visualize the distribution of price ranges"
   ]
  },
  {
   "cell_type": "code",
   "execution_count": 75,
   "id": "65468c0b-22a1-4724-9aed-6448fb598db0",
   "metadata": {},
   "outputs": [
    {
     "data": {
      "image/png": "[encoded data removed]",
      "text/plain": [
       "<Figure size 640x480 with 1 Axes>"
      ]
     },
     "metadata": {},
     "output_type": "display_data"
    }
   ],
   "source": [
    "price_range_counts = data['Price range'].value_counts()\n",
    "\n",
    "# Plotting the bar chart\n",
    "price_range_counts.plot(kind='bar',color='lightseagreen')\n",
    "plt.xlabel('Price Range')\n",
    "plt.ylabel('Number of Restaurants')\n",
    "plt.title('Distribution of Restaurants by Price Range')\n",
    "plt.xticks(rotation=0)\n",
    "plt.show()"
   ]
  },
  {
   "cell_type": "markdown",
   "id": "c41c56f4-414b-49c9-9de6-8e159d9bfd69",
   "metadata": {},
   "source": [
    "* The most common price range is 1, which likely represents low-priced restaurants.\n",
    "\n",
    "* This suggests that the majority of restaurants in the dataset are catering to more affordable dining options, appealing to budget-conscious customers or those seeking quick, inexpensive meals.\n",
    "\n",
    "* It may also indicate that the restaurant industry in this dataset has a larger proportion of casual, fast-food, or budget-friendly establishments compared to higher-end ones"
   ]
  },
  {
   "cell_type": "markdown",
   "id": "49ba1764-fe35-4c8d-9786-35d746cae9fe",
   "metadata": {},
   "source": [
    "#### 2. Calculate the average rating for each price range."
   ]
  },
  {
   "cell_type": "code",
   "execution_count": 78,
   "id": "75b8f816-4dc2-4578-93d8-dfa9275194f1",
   "metadata": {},
   "outputs": [
    {
     "name": "stdout",
     "output_type": "stream",
     "text": [
      "Price range\n",
      "1    1.999887\n",
      "2    2.941054\n",
      "3    3.683381\n",
      "4    3.817918\n",
      "Name: Aggregate rating, dtype: float64\n"
     ]
    }
   ],
   "source": [
    "# Group by 'Price range' and calculate the average rating for each group\n",
    "avg_ratings_by_price = data.groupby('Price range')['Aggregate rating'].mean()\n",
    "\n",
    "# Print the average ratings for each price range\n",
    "print(avg_ratings_by_price)"
   ]
  },
  {
   "cell_type": "code",
   "execution_count": 79,
   "id": "2fa2d517-127a-4428-a50e-50fd71424189",
   "metadata": {},
   "outputs": [],
   "source": [
    "# Visualization"
   ]
  },
  {
   "cell_type": "code",
   "execution_count": 80,
   "id": "ca65d1ec-aa30-48ec-882c-3c277fb53bd2",
   "metadata": {},
   "outputs": [
    {
     "data": {
      "image/png": "[encoded data removed]",
      "text/plain": [
       "<Figure size 640x480 with 1 Axes>"
      ]
     },
     "metadata": {},
     "output_type": "display_data"
    }
   ],
   "source": [
    "colors = ['#FF1493', '#FF4500', '#D2691E', '#6A5ACD']\n",
    "\n",
    "avg_ratings_by_price.plot(kind='bar',color=colors)\n",
    "plt.xlabel('Price Range')\n",
    "plt.ylabel('Average Rating')\n",
    "plt.title('Average Rating by Price Range')\n",
    "plt.xticks(rotation=0)\n",
    "plt.show()"
   ]
  },
  {
   "cell_type": "markdown",
   "id": "87a5926e-205a-4bcf-a3ce-622b5bffc865",
   "metadata": {},
   "source": [
    "* There is a clear trend where higher-priced restaurants tend to receive better aggregate ratings, likely due to enhanced service, food quality, and overall dining experiences. On the other hand, low-priced restaurants have lower ratings, which might be attributed to the trade-off between affordability and quality.\n",
    "\n",
    "* A bar chart visually reinforces this trend, with a gradual increase in ratings as the price range moves from low to very high."
   ]
  },
  {
   "cell_type": "markdown",
   "id": "b84ab8f1-553a-496b-a504-8c5f2596c13d",
   "metadata": {},
   "source": [
    "#### 3. Identify the color that represents the highest average rating among different price range."
   ]
  },
  {
   "cell_type": "code",
   "execution_count": 83,
   "id": "77b2228c-0f7d-4f2f-a254-43d8e2e6b4d6",
   "metadata": {},
   "outputs": [
    {
     "data": {
      "text/html": [
       "<div>\n",
       "<style scoped>\n",
       "    .dataframe tbody tr th:only-of-type {\n",
       "        vertical-align: middle;\n",
       "    }\n",
       "\n",
       "    .dataframe tbody tr th {\n",
       "        vertical-align: top;\n",
       "    }\n",
       "\n",
       "    .dataframe thead th {\n",
       "        text-align: right;\n",
       "    }\n",
       "</style>\n",
       "<table border=\"1\" class=\"dataframe\">\n",
       "  <thead>\n",
       "    <tr style=\"text-align: right;\">\n",
       "      <th></th>\n",
       "      <th>Price range</th>\n",
       "      <th>Rating color</th>\n",
       "      <th>Aggregate rating</th>\n",
       "    </tr>\n",
       "  </thead>\n",
       "  <tbody>\n",
       "    <tr>\n",
       "      <th>0</th>\n",
       "      <td>1</td>\n",
       "      <td>Dark Green</td>\n",
       "      <td>4.668750</td>\n",
       "    </tr>\n",
       "    <tr>\n",
       "      <th>1</th>\n",
       "      <td>1</td>\n",
       "      <td>Green</td>\n",
       "      <td>4.157639</td>\n",
       "    </tr>\n",
       "    <tr>\n",
       "      <th>2</th>\n",
       "      <td>1</td>\n",
       "      <td>Orange</td>\n",
       "      <td>3.040464</td>\n",
       "    </tr>\n",
       "    <tr>\n",
       "      <th>3</th>\n",
       "      <td>1</td>\n",
       "      <td>Red</td>\n",
       "      <td>2.293548</td>\n",
       "    </tr>\n",
       "    <tr>\n",
       "      <th>4</th>\n",
       "      <td>1</td>\n",
       "      <td>White</td>\n",
       "      <td>0.000000</td>\n",
       "    </tr>\n",
       "    <tr>\n",
       "      <th>5</th>\n",
       "      <td>1</td>\n",
       "      <td>Yellow</td>\n",
       "      <td>3.661842</td>\n",
       "    </tr>\n",
       "    <tr>\n",
       "      <th>6</th>\n",
       "      <td>2</td>\n",
       "      <td>Dark Green</td>\n",
       "      <td>4.627536</td>\n",
       "    </tr>\n",
       "    <tr>\n",
       "      <th>7</th>\n",
       "      <td>2</td>\n",
       "      <td>Green</td>\n",
       "      <td>4.159385</td>\n",
       "    </tr>\n",
       "    <tr>\n",
       "      <th>8</th>\n",
       "      <td>2</td>\n",
       "      <td>Orange</td>\n",
       "      <td>3.048491</td>\n",
       "    </tr>\n",
       "    <tr>\n",
       "      <th>9</th>\n",
       "      <td>2</td>\n",
       "      <td>Red</td>\n",
       "      <td>2.300000</td>\n",
       "    </tr>\n",
       "    <tr>\n",
       "      <th>10</th>\n",
       "      <td>2</td>\n",
       "      <td>White</td>\n",
       "      <td>0.000000</td>\n",
       "    </tr>\n",
       "    <tr>\n",
       "      <th>11</th>\n",
       "      <td>2</td>\n",
       "      <td>Yellow</td>\n",
       "      <td>3.671159</td>\n",
       "    </tr>\n",
       "    <tr>\n",
       "      <th>12</th>\n",
       "      <td>3</td>\n",
       "      <td>Dark Green</td>\n",
       "      <td>4.646032</td>\n",
       "    </tr>\n",
       "    <tr>\n",
       "      <th>13</th>\n",
       "      <td>3</td>\n",
       "      <td>Green</td>\n",
       "      <td>4.169231</td>\n",
       "    </tr>\n",
       "    <tr>\n",
       "      <th>14</th>\n",
       "      <td>3</td>\n",
       "      <td>Orange</td>\n",
       "      <td>3.097764</td>\n",
       "    </tr>\n",
       "    <tr>\n",
       "      <th>15</th>\n",
       "      <td>3</td>\n",
       "      <td>Red</td>\n",
       "      <td>2.305000</td>\n",
       "    </tr>\n",
       "    <tr>\n",
       "      <th>16</th>\n",
       "      <td>3</td>\n",
       "      <td>White</td>\n",
       "      <td>0.000000</td>\n",
       "    </tr>\n",
       "    <tr>\n",
       "      <th>17</th>\n",
       "      <td>3</td>\n",
       "      <td>Yellow</td>\n",
       "      <td>3.716265</td>\n",
       "    </tr>\n",
       "    <tr>\n",
       "      <th>18</th>\n",
       "      <td>4</td>\n",
       "      <td>Dark Green</td>\n",
       "      <td>4.709459</td>\n",
       "    </tr>\n",
       "    <tr>\n",
       "      <th>19</th>\n",
       "      <td>4</td>\n",
       "      <td>Green</td>\n",
       "      <td>4.188144</td>\n",
       "    </tr>\n",
       "    <tr>\n",
       "      <th>20</th>\n",
       "      <td>4</td>\n",
       "      <td>Orange</td>\n",
       "      <td>3.162376</td>\n",
       "    </tr>\n",
       "    <tr>\n",
       "      <th>21</th>\n",
       "      <td>4</td>\n",
       "      <td>Red</td>\n",
       "      <td>2.283333</td>\n",
       "    </tr>\n",
       "    <tr>\n",
       "      <th>22</th>\n",
       "      <td>4</td>\n",
       "      <td>White</td>\n",
       "      <td>0.000000</td>\n",
       "    </tr>\n",
       "    <tr>\n",
       "      <th>23</th>\n",
       "      <td>4</td>\n",
       "      <td>Yellow</td>\n",
       "      <td>3.716000</td>\n",
       "    </tr>\n",
       "  </tbody>\n",
       "</table>\n",
       "</div>"
      ],
      "text/plain": [
       "    Price range Rating color  Aggregate rating\n",
       "0             1   Dark Green          4.668750\n",
       "1             1        Green          4.157639\n",
       "2             1       Orange          3.040464\n",
       "3             1          Red          2.293548\n",
       "4             1        White          0.000000\n",
       "5             1       Yellow          3.661842\n",
       "6             2   Dark Green          4.627536\n",
       "7             2        Green          4.159385\n",
       "8             2       Orange          3.048491\n",
       "9             2          Red          2.300000\n",
       "10            2        White          0.000000\n",
       "11            2       Yellow          3.671159\n",
       "12            3   Dark Green          4.646032\n",
       "13            3        Green          4.169231\n",
       "14            3       Orange          3.097764\n",
       "15            3          Red          2.305000\n",
       "16            3        White          0.000000\n",
       "17            3       Yellow          3.716265\n",
       "18            4   Dark Green          4.709459\n",
       "19            4        Green          4.188144\n",
       "20            4       Orange          3.162376\n",
       "21            4          Red          2.283333\n",
       "22            4        White          0.000000\n",
       "23            4       Yellow          3.716000"
      ]
     },
     "execution_count": 83,
     "metadata": {},
     "output_type": "execute_result"
    }
   ],
   "source": [
    "# Step 1: Group by both 'Price range' and 'Rating color', and calculate the mean of 'Aggregate rating'\n",
    "grouped_data = data.groupby(['Price range', 'Rating color'])['Aggregate rating'].mean().reset_index()\n",
    "grouped_data"
   ]
  },
  {
   "cell_type": "code",
   "execution_count": 84,
   "id": "e27a127b-513a-4987-b7ec-f8ca77c863c7",
   "metadata": {},
   "outputs": [],
   "source": [
    "# Step 2: For each price range, find the color with the highest average rating\n",
    "top_colors = grouped_data.loc[grouped_data.groupby('Price range')['Aggregate rating'].idxmax()]"
   ]
  },
  {
   "cell_type": "code",
   "execution_count": 85,
   "id": "3c4f2a7f-4082-4d0e-bbef-ea8d7cd0bb33",
   "metadata": {},
   "outputs": [
    {
     "name": "stdout",
     "output_type": "stream",
     "text": [
      "    Price range Rating color  Aggregate rating\n",
      "0             1   Dark Green          4.668750\n",
      "6             2   Dark Green          4.627536\n",
      "12            3   Dark Green          4.646032\n",
      "18            4   Dark Green          4.709459\n"
     ]
    }
   ],
   "source": [
    "# Step 3: Display the result\n",
    "print(top_colors)"
   ]
  },
  {
   "cell_type": "markdown",
   "id": "90a0a358-c647-4b1b-a551-69d8ef1749a6",
   "metadata": {},
   "source": [
    "* The color **\"Dark Green\"** represents the highest average rating for all price ranges (1-4).\n",
    "\n",
    "* For each price range, the average rating is the highest for Dark Green, indicating that restaurants with this rating are consistently performing well across all price points."
   ]
  },
  {
   "cell_type": "markdown",
   "id": "1a600fb8-0b3e-4e73-a8eb-5f3e1ba920b4",
   "metadata": {},
   "source": [
    "### Task 3: * Feature Engineering *"
   ]
  },
  {
   "cell_type": "markdown",
   "id": "e19d9175-d882-40d2-b9f0-d43506a2a3be",
   "metadata": {},
   "source": [
    "#### 1. Extract additional features from the existing columns, such as the length of the restaurant names or address."
   ]
  },
  {
   "cell_type": "code",
   "execution_count": 89,
   "id": "9a657598-865e-4350-9115-bcd18ecd4739",
   "metadata": {},
   "outputs": [],
   "source": [
    "df=data.copy()"
   ]
  },
  {
   "cell_type": "code",
   "execution_count": 90,
   "id": "4476e940-333e-4145-a452-abf0c93772b8",
   "metadata": {},
   "outputs": [],
   "source": [
    "# Extracting the length of restaurant names\n",
    "df['Name_Length'] = df['Restaurant Name'].apply(len)"
   ]
  },
  {
   "cell_type": "code",
   "execution_count": 91,
   "id": "60247500-e0a7-4c30-8d7f-8c36e5f17c74",
   "metadata": {},
   "outputs": [],
   "source": [
    "# Extracting the length of addresses\n",
    "df['Address_Length'] = df['Address'].apply(len)"
   ]
  },
  {
   "cell_type": "code",
   "execution_count": 92,
   "id": "f458e0b9-040a-4504-acc0-1ad44a0edae6",
   "metadata": {},
   "outputs": [],
   "source": [
    "# Indicating if a restaurant is popular (threshold: more than 100 votes) \n",
    "df['Is_Popular'] = df['Votes'] > 100"
   ]
  },
  {
   "cell_type": "code",
   "execution_count": 93,
   "id": "369a6a25-0d9d-44df-90c8-691b9e3264e1",
   "metadata": {},
   "outputs": [],
   "source": [
    "# Extracting the number of cuisines \n",
    "df['cuisine_count'] = df['Cuisines'].apply(lambda x: len(x.split(',')))"
   ]
  },
  {
   "cell_type": "code",
   "execution_count": 94,
   "id": "9b3a8458-6cc2-404c-8545-740e19b48915",
   "metadata": {},
   "outputs": [
    {
     "data": {
      "text/html": [
       "<div>\n",
       "<style scoped>\n",
       "    .dataframe tbody tr th:only-of-type {\n",
       "        vertical-align: middle;\n",
       "    }\n",
       "\n",
       "    .dataframe tbody tr th {\n",
       "        vertical-align: top;\n",
       "    }\n",
       "\n",
       "    .dataframe thead th {\n",
       "        text-align: right;\n",
       "    }\n",
       "</style>\n",
       "<table border=\"1\" class=\"dataframe\">\n",
       "  <thead>\n",
       "    <tr style=\"text-align: right;\">\n",
       "      <th></th>\n",
       "      <th>Restaurant ID</th>\n",
       "      <th>Restaurant Name</th>\n",
       "      <th>Country Code</th>\n",
       "      <th>City</th>\n",
       "      <th>Address</th>\n",
       "      <th>Locality</th>\n",
       "      <th>Locality Verbose</th>\n",
       "      <th>Longitude</th>\n",
       "      <th>Latitude</th>\n",
       "      <th>Cuisines</th>\n",
       "      <th>...</th>\n",
       "      <th>Switch to order menu</th>\n",
       "      <th>Price range</th>\n",
       "      <th>Aggregate rating</th>\n",
       "      <th>Rating color</th>\n",
       "      <th>Rating text</th>\n",
       "      <th>Votes</th>\n",
       "      <th>Name_Length</th>\n",
       "      <th>Address_Length</th>\n",
       "      <th>Is_Popular</th>\n",
       "      <th>cuisine_count</th>\n",
       "    </tr>\n",
       "  </thead>\n",
       "  <tbody>\n",
       "    <tr>\n",
       "      <th>0</th>\n",
       "      <td>6317637</td>\n",
       "      <td>Le Petit Souffle</td>\n",
       "      <td>162</td>\n",
       "      <td>Makati City</td>\n",
       "      <td>Third Floor, Century City Mall, Kalayaan Avenu...</td>\n",
       "      <td>Century City Mall, Poblacion, Makati City</td>\n",
       "      <td>Century City Mall, Poblacion, Makati City, Mak...</td>\n",
       "      <td>121.027535</td>\n",
       "      <td>14.565443</td>\n",
       "      <td>French, Japanese, Desserts</td>\n",
       "      <td>...</td>\n",
       "      <td>No</td>\n",
       "      <td>3</td>\n",
       "      <td>4.8</td>\n",
       "      <td>Dark Green</td>\n",
       "      <td>Excellent</td>\n",
       "      <td>314</td>\n",
       "      <td>16</td>\n",
       "      <td>71</td>\n",
       "      <td>True</td>\n",
       "      <td>3</td>\n",
       "    </tr>\n",
       "    <tr>\n",
       "      <th>1</th>\n",
       "      <td>6304287</td>\n",
       "      <td>Izakaya Kikufuji</td>\n",
       "      <td>162</td>\n",
       "      <td>Makati City</td>\n",
       "      <td>Little Tokyo, 2277 Chino Roces Avenue, Legaspi...</td>\n",
       "      <td>Little Tokyo, Legaspi Village, Makati City</td>\n",
       "      <td>Little Tokyo, Legaspi Village, Makati City, Ma...</td>\n",
       "      <td>121.014101</td>\n",
       "      <td>14.553708</td>\n",
       "      <td>Japanese</td>\n",
       "      <td>...</td>\n",
       "      <td>No</td>\n",
       "      <td>3</td>\n",
       "      <td>4.5</td>\n",
       "      <td>Dark Green</td>\n",
       "      <td>Excellent</td>\n",
       "      <td>591</td>\n",
       "      <td>16</td>\n",
       "      <td>67</td>\n",
       "      <td>True</td>\n",
       "      <td>1</td>\n",
       "    </tr>\n",
       "    <tr>\n",
       "      <th>2</th>\n",
       "      <td>6300002</td>\n",
       "      <td>Heat - Edsa Shangri-La</td>\n",
       "      <td>162</td>\n",
       "      <td>Mandaluyong City</td>\n",
       "      <td>Edsa Shangri-La, 1 Garden Way, Ortigas, Mandal...</td>\n",
       "      <td>Edsa Shangri-La, Ortigas, Mandaluyong City</td>\n",
       "      <td>Edsa Shangri-La, Ortigas, Mandaluyong City, Ma...</td>\n",
       "      <td>121.056831</td>\n",
       "      <td>14.581404</td>\n",
       "      <td>Seafood, Asian, Filipino, Indian</td>\n",
       "      <td>...</td>\n",
       "      <td>No</td>\n",
       "      <td>4</td>\n",
       "      <td>4.4</td>\n",
       "      <td>Green</td>\n",
       "      <td>Very Good</td>\n",
       "      <td>270</td>\n",
       "      <td>22</td>\n",
       "      <td>56</td>\n",
       "      <td>True</td>\n",
       "      <td>4</td>\n",
       "    </tr>\n",
       "  </tbody>\n",
       "</table>\n",
       "<p>3 rows × 25 columns</p>\n",
       "</div>"
      ],
      "text/plain": [
       "   Restaurant ID         Restaurant Name  Country Code              City  \\\n",
       "0        6317637        Le Petit Souffle           162       Makati City   \n",
       "1        6304287        Izakaya Kikufuji           162       Makati City   \n",
       "2        6300002  Heat - Edsa Shangri-La           162  Mandaluyong City   \n",
       "\n",
       "                                             Address  \\\n",
       "0  Third Floor, Century City Mall, Kalayaan Avenu...   \n",
       "1  Little Tokyo, 2277 Chino Roces Avenue, Legaspi...   \n",
       "2  Edsa Shangri-La, 1 Garden Way, Ortigas, Mandal...   \n",
       "\n",
       "                                     Locality  \\\n",
       "0   Century City Mall, Poblacion, Makati City   \n",
       "1  Little Tokyo, Legaspi Village, Makati City   \n",
       "2  Edsa Shangri-La, Ortigas, Mandaluyong City   \n",
       "\n",
       "                                    Locality Verbose   Longitude   Latitude  \\\n",
       "0  Century City Mall, Poblacion, Makati City, Mak...  121.027535  14.565443   \n",
       "1  Little Tokyo, Legaspi Village, Makati City, Ma...  121.014101  14.553708   \n",
       "2  Edsa Shangri-La, Ortigas, Mandaluyong City, Ma...  121.056831  14.581404   \n",
       "\n",
       "                           Cuisines  ...  Switch to order menu Price range  \\\n",
       "0        French, Japanese, Desserts  ...                    No           3   \n",
       "1                          Japanese  ...                    No           3   \n",
       "2  Seafood, Asian, Filipino, Indian  ...                    No           4   \n",
       "\n",
       "  Aggregate rating Rating color Rating text Votes  Name_Length  \\\n",
       "0              4.8   Dark Green   Excellent   314           16   \n",
       "1              4.5   Dark Green   Excellent   591           16   \n",
       "2              4.4        Green   Very Good   270           22   \n",
       "\n",
       "   Address_Length Is_Popular cuisine_count  \n",
       "0              71       True             3  \n",
       "1              67       True             1  \n",
       "2              56       True             4  \n",
       "\n",
       "[3 rows x 25 columns]"
      ]
     },
     "execution_count": 94,
     "metadata": {},
     "output_type": "execute_result"
    }
   ],
   "source": [
    "df.head(3)"
   ]
  },
  {
   "cell_type": "markdown",
   "id": "dbbe1a1a-b0fb-41d2-9cde-37c0067539ab",
   "metadata": {},
   "source": [
    "Additional features have been extracted to enhance the dataset's analytical capabilities. \n",
    "\n",
    "- 'Name_Length' represents the length of the restaurant name, which can be used to explore potential correlations with ratings or popularity.\n",
    "- 'Address_Length' provides the length of the restaurant address, which might give insights into the complexity or detail in location descriptions.\n",
    "- 'Is_Popular' is a binary feature indicating whether a restaurant is considered popular based on having more than 100 votes, which can be useful for analyzing customer engagement.\n",
    "- 'cuisine_count' represents the number of different cuisines offered by the restaurant, adding a layer of diversity insight to the dataset.\n",
    "\n",
    "These additional features will help further analyze restaurant characteristics and their relationship to customer satisfaction, pricing, and popularity."
   ]
  },
  {
   "cell_type": "markdown",
   "id": "444392d9-3b72-46de-b175-c93be5ddd8e2",
   "metadata": {},
   "source": [
    "#### 2. Create new features like \"Has Table Booking\"or \"Has Online Delivery\" by encoding categorical variables"
   ]
  },
  {
   "cell_type": "code",
   "execution_count": 97,
   "id": "99b3b452-36c8-42c6-b6cc-5e89c01667c7",
   "metadata": {},
   "outputs": [],
   "source": [
    "# Encoding 'Has Table booking'"
   ]
  },
  {
   "cell_type": "code",
   "execution_count": 98,
   "id": "faec88ad-2d4e-4ac1-9adf-458411112789",
   "metadata": {},
   "outputs": [
    {
     "data": {
      "text/plain": [
       "array(['yes', 'no'], dtype=object)"
      ]
     },
     "execution_count": 98,
     "metadata": {},
     "output_type": "execute_result"
    }
   ],
   "source": [
    "df['Has Table booking'].unique()"
   ]
  },
  {
   "cell_type": "code",
   "execution_count": 99,
   "id": "5b7dc75e-9ce8-423f-bd6f-f9f7e9c5427a",
   "metadata": {},
   "outputs": [],
   "source": [
    "df['Has_Table_Booking'] = df['Has Table booking'].map({'yes': 1, 'no': 0})"
   ]
  },
  {
   "cell_type": "code",
   "execution_count": 100,
   "id": "0fa9e3d1-1a30-491a-a17f-6e2b85cd6d26",
   "metadata": {},
   "outputs": [],
   "source": [
    "# Encoding 'Has Online delivery'"
   ]
  },
  {
   "cell_type": "code",
   "execution_count": 101,
   "id": "1ab32bc2-f867-43df-83aa-208724d9e576",
   "metadata": {},
   "outputs": [
    {
     "data": {
      "text/plain": [
       "array(['no', 'yes'], dtype=object)"
      ]
     },
     "execution_count": 101,
     "metadata": {},
     "output_type": "execute_result"
    }
   ],
   "source": [
    "df['Has Online delivery'].unique()"
   ]
  },
  {
   "cell_type": "code",
   "execution_count": 102,
   "id": "3e8bec04-8ba2-45e9-880e-424c43ec66c4",
   "metadata": {},
   "outputs": [],
   "source": [
    "df['Has_Online_Delivery'] = df['Has Online delivery'].map({'yes': 1, 'no': 0})"
   ]
  },
  {
   "cell_type": "code",
   "execution_count": 103,
   "id": "54d57452-5d2c-4a37-a7a2-80145afa8df0",
   "metadata": {},
   "outputs": [],
   "source": [
    "# Encoding 'Is delivering now'"
   ]
  },
  {
   "cell_type": "code",
   "execution_count": 104,
   "id": "8f96ae77-20db-47a8-9c1f-b6d914983679",
   "metadata": {},
   "outputs": [
    {
     "data": {
      "text/plain": [
       "array(['No', 'Yes'], dtype=object)"
      ]
     },
     "execution_count": 104,
     "metadata": {},
     "output_type": "execute_result"
    }
   ],
   "source": [
    "df['Is delivering now'].unique()"
   ]
  },
  {
   "cell_type": "code",
   "execution_count": 105,
   "id": "e2de5e40-fab0-469e-b071-13ebc1e631ed",
   "metadata": {},
   "outputs": [],
   "source": [
    "df['Is_delivering_now'] = df['Is delivering now'].map({'Yes': 1, 'No': 0})"
   ]
  },
  {
   "cell_type": "code",
   "execution_count": 106,
   "id": "8022e59e-019c-4786-8786-0f8d58eb09e6",
   "metadata": {},
   "outputs": [],
   "source": [
    "# Encoding 'Rating color'"
   ]
  },
  {
   "cell_type": "code",
   "execution_count": 107,
   "id": "3fab1471-527a-41d6-ac45-12b64713ddb9",
   "metadata": {},
   "outputs": [
    {
     "data": {
      "text/plain": [
       "array(['Dark Green', 'Green', 'Yellow', 'Orange', 'White', 'Red'],\n",
       "      dtype=object)"
      ]
     },
     "execution_count": 107,
     "metadata": {},
     "output_type": "execute_result"
    }
   ],
   "source": [
    "df['Rating color'].unique()"
   ]
  },
  {
   "cell_type": "code",
   "execution_count": 108,
   "id": "42320f69-4c9d-488f-a387-ce9eb6246555",
   "metadata": {},
   "outputs": [],
   "source": [
    "df['Rating_color'] = df['Rating color'].map({'Dark Green':5, 'Green':4, 'Yellow':3, 'Orange':2, 'White':1, 'Red':0})"
   ]
  },
  {
   "cell_type": "code",
   "execution_count": 109,
   "id": "458f9040-af31-4f4a-9ab2-aeb4e50075fc",
   "metadata": {},
   "outputs": [],
   "source": [
    "# Encoding 'Rating text'"
   ]
  },
  {
   "cell_type": "code",
   "execution_count": 110,
   "id": "aea1f176-ef24-43dd-b0cb-87e561690aad",
   "metadata": {},
   "outputs": [
    {
     "data": {
      "text/plain": [
       "array(['Excellent', 'Very Good', 'Good', 'Average', 'Not rated', 'Poor'],\n",
       "      dtype=object)"
      ]
     },
     "execution_count": 110,
     "metadata": {},
     "output_type": "execute_result"
    }
   ],
   "source": [
    "df['Rating text'].unique()"
   ]
  },
  {
   "cell_type": "code",
   "execution_count": 111,
   "id": "b77ac12b-5341-4b74-b671-911ecd011607",
   "metadata": {},
   "outputs": [],
   "source": [
    "df['Rating_text'] = df['Rating text'].map({'Excellent':5, 'Very Good':4, 'Good':3, 'Average':2, 'Not rated':1, 'Poor':0})"
   ]
  },
  {
   "cell_type": "code",
   "execution_count": 112,
   "id": "fa867fa1-a81a-4884-8fb2-035a0de3f4bd",
   "metadata": {},
   "outputs": [
    {
     "data": {
      "text/html": [
       "<div>\n",
       "<style scoped>\n",
       "    .dataframe tbody tr th:only-of-type {\n",
       "        vertical-align: middle;\n",
       "    }\n",
       "\n",
       "    .dataframe tbody tr th {\n",
       "        vertical-align: top;\n",
       "    }\n",
       "\n",
       "    .dataframe thead th {\n",
       "        text-align: right;\n",
       "    }\n",
       "</style>\n",
       "<table border=\"1\" class=\"dataframe\">\n",
       "  <thead>\n",
       "    <tr style=\"text-align: right;\">\n",
       "      <th></th>\n",
       "      <th>Restaurant ID</th>\n",
       "      <th>Restaurant Name</th>\n",
       "      <th>Country Code</th>\n",
       "      <th>City</th>\n",
       "      <th>Address</th>\n",
       "      <th>Locality</th>\n",
       "      <th>Locality Verbose</th>\n",
       "      <th>Longitude</th>\n",
       "      <th>Latitude</th>\n",
       "      <th>Cuisines</th>\n",
       "      <th>...</th>\n",
       "      <th>Votes</th>\n",
       "      <th>Name_Length</th>\n",
       "      <th>Address_Length</th>\n",
       "      <th>Is_Popular</th>\n",
       "      <th>cuisine_count</th>\n",
       "      <th>Has_Table_Booking</th>\n",
       "      <th>Has_Online_Delivery</th>\n",
       "      <th>Is_delivering_now</th>\n",
       "      <th>Rating_color</th>\n",
       "      <th>Rating_text</th>\n",
       "    </tr>\n",
       "  </thead>\n",
       "  <tbody>\n",
       "    <tr>\n",
       "      <th>0</th>\n",
       "      <td>6317637</td>\n",
       "      <td>Le Petit Souffle</td>\n",
       "      <td>162</td>\n",
       "      <td>Makati City</td>\n",
       "      <td>Third Floor, Century City Mall, Kalayaan Avenu...</td>\n",
       "      <td>Century City Mall, Poblacion, Makati City</td>\n",
       "      <td>Century City Mall, Poblacion, Makati City, Mak...</td>\n",
       "      <td>121.027535</td>\n",
       "      <td>14.565443</td>\n",
       "      <td>French, Japanese, Desserts</td>\n",
       "      <td>...</td>\n",
       "      <td>314</td>\n",
       "      <td>16</td>\n",
       "      <td>71</td>\n",
       "      <td>True</td>\n",
       "      <td>3</td>\n",
       "      <td>1</td>\n",
       "      <td>0</td>\n",
       "      <td>0</td>\n",
       "      <td>5</td>\n",
       "      <td>5</td>\n",
       "    </tr>\n",
       "    <tr>\n",
       "      <th>1</th>\n",
       "      <td>6304287</td>\n",
       "      <td>Izakaya Kikufuji</td>\n",
       "      <td>162</td>\n",
       "      <td>Makati City</td>\n",
       "      <td>Little Tokyo, 2277 Chino Roces Avenue, Legaspi...</td>\n",
       "      <td>Little Tokyo, Legaspi Village, Makati City</td>\n",
       "      <td>Little Tokyo, Legaspi Village, Makati City, Ma...</td>\n",
       "      <td>121.014101</td>\n",
       "      <td>14.553708</td>\n",
       "      <td>Japanese</td>\n",
       "      <td>...</td>\n",
       "      <td>591</td>\n",
       "      <td>16</td>\n",
       "      <td>67</td>\n",
       "      <td>True</td>\n",
       "      <td>1</td>\n",
       "      <td>1</td>\n",
       "      <td>0</td>\n",
       "      <td>0</td>\n",
       "      <td>5</td>\n",
       "      <td>5</td>\n",
       "    </tr>\n",
       "    <tr>\n",
       "      <th>2</th>\n",
       "      <td>6300002</td>\n",
       "      <td>Heat - Edsa Shangri-La</td>\n",
       "      <td>162</td>\n",
       "      <td>Mandaluyong City</td>\n",
       "      <td>Edsa Shangri-La, 1 Garden Way, Ortigas, Mandal...</td>\n",
       "      <td>Edsa Shangri-La, Ortigas, Mandaluyong City</td>\n",
       "      <td>Edsa Shangri-La, Ortigas, Mandaluyong City, Ma...</td>\n",
       "      <td>121.056831</td>\n",
       "      <td>14.581404</td>\n",
       "      <td>Seafood, Asian, Filipino, Indian</td>\n",
       "      <td>...</td>\n",
       "      <td>270</td>\n",
       "      <td>22</td>\n",
       "      <td>56</td>\n",
       "      <td>True</td>\n",
       "      <td>4</td>\n",
       "      <td>1</td>\n",
       "      <td>0</td>\n",
       "      <td>0</td>\n",
       "      <td>4</td>\n",
       "      <td>4</td>\n",
       "    </tr>\n",
       "    <tr>\n",
       "      <th>3</th>\n",
       "      <td>6318506</td>\n",
       "      <td>Ooma</td>\n",
       "      <td>162</td>\n",
       "      <td>Mandaluyong City</td>\n",
       "      <td>Third Floor, Mega Fashion Hall, SM Megamall, O...</td>\n",
       "      <td>SM Megamall, Ortigas, Mandaluyong City</td>\n",
       "      <td>SM Megamall, Ortigas, Mandaluyong City, Mandal...</td>\n",
       "      <td>121.056475</td>\n",
       "      <td>14.585318</td>\n",
       "      <td>Japanese, Sushi</td>\n",
       "      <td>...</td>\n",
       "      <td>365</td>\n",
       "      <td>4</td>\n",
       "      <td>70</td>\n",
       "      <td>True</td>\n",
       "      <td>2</td>\n",
       "      <td>0</td>\n",
       "      <td>0</td>\n",
       "      <td>0</td>\n",
       "      <td>5</td>\n",
       "      <td>5</td>\n",
       "    </tr>\n",
       "    <tr>\n",
       "      <th>4</th>\n",
       "      <td>6314302</td>\n",
       "      <td>Sambo Kojin</td>\n",
       "      <td>162</td>\n",
       "      <td>Mandaluyong City</td>\n",
       "      <td>Third Floor, Mega Atrium, SM Megamall, Ortigas...</td>\n",
       "      <td>SM Megamall, Ortigas, Mandaluyong City</td>\n",
       "      <td>SM Megamall, Ortigas, Mandaluyong City, Mandal...</td>\n",
       "      <td>121.057508</td>\n",
       "      <td>14.584450</td>\n",
       "      <td>Japanese, Korean</td>\n",
       "      <td>...</td>\n",
       "      <td>229</td>\n",
       "      <td>11</td>\n",
       "      <td>64</td>\n",
       "      <td>True</td>\n",
       "      <td>2</td>\n",
       "      <td>1</td>\n",
       "      <td>0</td>\n",
       "      <td>0</td>\n",
       "      <td>5</td>\n",
       "      <td>5</td>\n",
       "    </tr>\n",
       "  </tbody>\n",
       "</table>\n",
       "<p>5 rows × 30 columns</p>\n",
       "</div>"
      ],
      "text/plain": [
       "   Restaurant ID         Restaurant Name  Country Code              City  \\\n",
       "0        6317637        Le Petit Souffle           162       Makati City   \n",
       "1        6304287        Izakaya Kikufuji           162       Makati City   \n",
       "2        6300002  Heat - Edsa Shangri-La           162  Mandaluyong City   \n",
       "3        6318506                    Ooma           162  Mandaluyong City   \n",
       "4        6314302             Sambo Kojin           162  Mandaluyong City   \n",
       "\n",
       "                                             Address  \\\n",
       "0  Third Floor, Century City Mall, Kalayaan Avenu...   \n",
       "1  Little Tokyo, 2277 Chino Roces Avenue, Legaspi...   \n",
       "2  Edsa Shangri-La, 1 Garden Way, Ortigas, Mandal...   \n",
       "3  Third Floor, Mega Fashion Hall, SM Megamall, O...   \n",
       "4  Third Floor, Mega Atrium, SM Megamall, Ortigas...   \n",
       "\n",
       "                                     Locality  \\\n",
       "0   Century City Mall, Poblacion, Makati City   \n",
       "1  Little Tokyo, Legaspi Village, Makati City   \n",
       "2  Edsa Shangri-La, Ortigas, Mandaluyong City   \n",
       "3      SM Megamall, Ortigas, Mandaluyong City   \n",
       "4      SM Megamall, Ortigas, Mandaluyong City   \n",
       "\n",
       "                                    Locality Verbose   Longitude   Latitude  \\\n",
       "0  Century City Mall, Poblacion, Makati City, Mak...  121.027535  14.565443   \n",
       "1  Little Tokyo, Legaspi Village, Makati City, Ma...  121.014101  14.553708   \n",
       "2  Edsa Shangri-La, Ortigas, Mandaluyong City, Ma...  121.056831  14.581404   \n",
       "3  SM Megamall, Ortigas, Mandaluyong City, Mandal...  121.056475  14.585318   \n",
       "4  SM Megamall, Ortigas, Mandaluyong City, Mandal...  121.057508  14.584450   \n",
       "\n",
       "                           Cuisines  ...  Votes Name_Length Address_Length  \\\n",
       "0        French, Japanese, Desserts  ...    314          16             71   \n",
       "1                          Japanese  ...    591          16             67   \n",
       "2  Seafood, Asian, Filipino, Indian  ...    270          22             56   \n",
       "3                   Japanese, Sushi  ...    365           4             70   \n",
       "4                  Japanese, Korean  ...    229          11             64   \n",
       "\n",
       "  Is_Popular cuisine_count Has_Table_Booking  Has_Online_Delivery  \\\n",
       "0       True             3                 1                    0   \n",
       "1       True             1                 1                    0   \n",
       "2       True             4                 1                    0   \n",
       "3       True             2                 0                    0   \n",
       "4       True             2                 1                    0   \n",
       "\n",
       "   Is_delivering_now Rating_color Rating_text  \n",
       "0                  0            5           5  \n",
       "1                  0            5           5  \n",
       "2                  0            4           4  \n",
       "3                  0            5           5  \n",
       "4                  0            5           5  \n",
       "\n",
       "[5 rows x 30 columns]"
      ]
     },
     "execution_count": 112,
     "metadata": {},
     "output_type": "execute_result"
    }
   ],
   "source": [
    "df.head()"
   ]
  },
  {
   "cell_type": "markdown",
   "id": "fcc15fa0-66f9-4340-a7e2-16d99b7341d6",
   "metadata": {},
   "source": [
    " Categorical variables have been successfully encoded into numerical features for easier analysis:\n",
    "\n",
    "- 'Has Table booking', 'Has Online delivery', and 'Is delivering now' have been encoded as binary values (1 for 'Yes', 0 for 'No'), making it easier to analyze the presence of these services and their impact on restaurant performance.\n",
    "- 'Rating color' has been encoded into numerical values to enable quantitative analysis of different rating categories.\n",
    "- 'Rating text' has also been encoded to represent categorical ratings like 'Excellent', 'Good', etc., allowing further exploration of customer satisfaction levels.\n",
    "\n",
    "These new encoded features will enable better modeling, allow for more advanced analysis, and help uncover insights related to restaurant services and customer feedback."
   ]
  },
  {
   "cell_type": "markdown",
   "id": "8d7789fc-7118-4d25-b334-1fee7af09b02",
   "metadata": {},
   "source": [
    "#### Here’s a concise overview of my findings"
   ]
  },
  {
   "cell_type": "markdown",
   "id": "72362636-6a93-4b85-90da-491a5b81575d",
   "metadata": {},
   "source": [
    "**Task 1: Table Booking and Online Delivery** \n",
    "\n",
    "Percentage of Restaurants Offering Table Booking and Online Delivery:\n",
    "\n",
    "Only 12.12% of restaurants offer table booking, which might be due to operational limits or customer preference for walk-ins.\n",
    "25.66% offer online delivery, which shows a stronger trend toward convenience and the growing demand for delivery services.\n",
    "Average Ratings for Restaurants with and Without Table Booking:\n",
    "\n",
    "Restaurants with table booking have a higher average rating of 3.44 compared to 2.56 for those without it. This suggests that offering table booking may lead to better customer satisfaction and ratings.\n",
    "Online Delivery Across Price Ranges:\n",
    "\n",
    "Medium-priced restaurants are leading in offering online delivery, likely due to the balance between affordability and convenience.\n",
    "High-end restaurants offer delivery less often, as they focus more on personalized, in-person dining experiences.\n",
    "\n",
    "Conclusion: There's a clear opportunity to improve customer satisfaction by increasing table booking options and expanding online delivery, especially in medium-priced restaurants where the demand for convenience is higher."
   ]
  },
  {
   "cell_type": "markdown",
   "id": "82da6baf-c384-4732-9e20-5a121a71c703",
   "metadata": {},
   "source": [
    "**Task 2: Price Range Analysis**\n",
    "\n",
    "Most Common Price Range:\n",
    "Most restaurants fall under price range 1, meaning they are budget-friendly and likely focus on casual or fast-food options for cost-conscious customers.\n",
    "\n",
    "Ratings by Price Range:\n",
    "Restaurants with higher prices get better ratings, likely because of better food, service, and overall experience. Cheaper restaurants usually have lower ratings due to a focus on affordability over quality.\n",
    "\n",
    "Top-Rated Color:\n",
    "Dark Green shows the highest average ratings across all price ranges, meaning restaurants with this rating perform well regardless of their price."
   ]
  },
  {
   "cell_type": "markdown",
   "id": "d3b3c3e4-597a-4c3b-ad8b-b5a25a152fcf",
   "metadata": {},
   "source": [
    "**Task 3: Feature Engineering**\n",
    "\n",
    "New Features:\n",
    "Added features like Name_Length, Address_Length, Normalized_Rating, Is_Popular, and cuisine_count to explore patterns, value for money, and popularity trends.\n",
    "\n",
    "Encoded Features:\n",
    "Converted Has Table booking, Has Online delivery, Is delivering now, Rating color, and Rating text into numerical values for easier analysis of services and customer feedback."
   ]
  },
  {
   "cell_type": "code",
   "execution_count": null,
   "id": "96b8efc0-e1ac-4fed-b0a4-f5c3f7f24031",
   "metadata": {},
   "outputs": [],
   "source": []
  }
 ],
 "metadata": {
  "kernelspec": {
   "display_name": "Python 3 (ipykernel)",
   "language": "python",
   "name": "python3"
  },
  "language_info": {
   "codemirror_mode": {
    "name": "ipython",
    "version": 3
   },
   "file_extension": ".py",
   "mimetype": "text/x-python",
   "name": "python",
   "nbconvert_exporter": "python",
   "pygments_lexer": "ipython3",
   "version": "3.12.4"
  }
 },
 "nbformat": 4,
 "nbformat_minor": 5
}
